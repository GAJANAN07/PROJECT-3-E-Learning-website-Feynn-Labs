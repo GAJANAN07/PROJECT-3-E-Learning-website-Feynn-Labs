{
  "nbformat": 4,
  "nbformat_minor": 0,
  "metadata": {
    "colab": {
      "provenance": [],
      "authorship_tag": "ABX9TyOwrXkjNtQg75Y20i5cHynS",
      "include_colab_link": true
    },
    "kernelspec": {
      "name": "python3",
      "display_name": "Python 3"
    },
    "language_info": {
      "name": "python"
    }
  },
  "cells": [
    {
      "cell_type": "markdown",
      "metadata": {
        "id": "view-in-github",
        "colab_type": "text"
      },
      "source": [
        "<a href=\"https://colab.research.google.com/github/GAJANAN07/PROJECT-3-E-Learning-website-Feynn-Labs/blob/main/E_LEARNING_PLATFORM_(Gajanan_Purud).ipynb\" target=\"_parent\"><img src=\"https://colab.research.google.com/assets/colab-badge.svg\" alt=\"Open In Colab\"/></a>"
      ]
    },
    {
      "cell_type": "markdown",
      "source": [
        "## Import necessary libraries"
      ],
      "metadata": {
        "id": "vmRUnTYdEjQ5"
      }
    },
    {
      "cell_type": "code",
      "execution_count": 141,
      "metadata": {
        "id": "u-d3AZeCETNO"
      },
      "outputs": [],
      "source": [
        "import pandas as pd\n",
        "import numpy as np\n",
        "import matplotlib.pyplot as plt\n",
        "import seaborn as sns"
      ]
    },
    {
      "cell_type": "code",
      "source": [
        "\n",
        "# importing the dependencies\n",
        "import pandas as pd\n",
        "import matplotlib.pyplot as plt\n",
        "import seaborn as sns\n",
        "from sklearn.model_selection import train_test_split\n",
        "from sklearn.preprocessing import StandardScaler\n",
        "from sklearn.decomposition import PCA\n",
        "from sklearn.cluster import KMeans\n",
        "import numpy as np\n",
        "import warnings\n",
        "warnings.filterwarnings(\"ignore\")"
      ],
      "metadata": {
        "id": "-mEATG9jMuki"
      },
      "execution_count": 142,
      "outputs": []
    },
    {
      "cell_type": "markdown",
      "source": [
        "## Load the dataset"
      ],
      "metadata": {
        "id": "vL5toJOdIzIn"
      }
    },
    {
      "cell_type": "code",
      "source": [
        "dataset_path = '/content/Online_Courses (1).csv'\n",
        "data = pd.read_csv(dataset_path)"
      ],
      "metadata": {
        "id": "zsF4kWeqEyqt"
      },
      "execution_count": 143,
      "outputs": []
    },
    {
      "cell_type": "markdown",
      "source": [
        "## Displaying the first few rows of the dataset"
      ],
      "metadata": {
        "id": "kG6MJ1lZKHI2"
      }
    },
    {
      "cell_type": "code",
      "source": [
        "print(\"First 5 rows of the dataset:\")\n",
        "print(data.head())"
      ],
      "metadata": {
        "colab": {
          "base_uri": "https://localhost:8080/"
        },
        "id": "U4nKCC1WJ3M0",
        "outputId": "f59698ec-4f18-44ce-cc6f-e5a5ee45ad4c"
      },
      "execution_count": 144,
      "outputs": [
        {
          "output_type": "stream",
          "name": "stdout",
          "text": [
            "First 5 rows of the dataset:\n",
            "   Unnamed: 0                                              Title  \\\n",
            "0           0                    Machine Learning Specialization   \n",
            "1           1        Introduction to Data Science Specialization   \n",
            "2           2  Data Science Fundamentals with Python and SQL ...   \n",
            "3           3       Key Technologies for Business Specialization   \n",
            "4           4                       Deep Learning Specialization   \n",
            "\n",
            "                                                 URL  \\\n",
            "0  https://www.coursera.org/specializations/machi...   \n",
            "1  https://www.coursera.org/specializations/intro...   \n",
            "2  https://www.coursera.org/specializations/data-...   \n",
            "3  https://www.coursera.org/specializations/key-t...   \n",
            "4  https://www.coursera.org/specializations/deep-...   \n",
            "\n",
            "                                         Short Intro      Category  \\\n",
            "0  #BreakIntoAI with Machine Learning Specializat...  Data Science   \n",
            "1  Launch your career in data science. Gain found...  Data Science   \n",
            "2  Build the Foundation for your Data Science car...  Data Science   \n",
            "3  Get Ahead with Key Business Technologies. Gain...      Business   \n",
            "4  Become a Machine Learning expert. Master the f...  Data Science   \n",
            "\n",
            "          Sub-Category     Course Type Language  \\\n",
            "0     Machine Learning  Specialization  English   \n",
            "1        Data Analysis  Specialization  English   \n",
            "2        Data Analysis  Specialization  English   \n",
            "3  Business Essentials  Specialization  English   \n",
            "4     Machine Learning  Specialization  English   \n",
            "\n",
            "                                  Subtitle Languages  \\\n",
            "0                                 Subtitles: English   \n",
            "1  Subtitles: English, Arabic, French, Portuguese...   \n",
            "2  Subtitles: English, Arabic, French, Portuguese...   \n",
            "3  Subtitles: English, Arabic, French, Portuguese...   \n",
            "4  Subtitles: English, Chinese (Traditional), Ara...   \n",
            "\n",
            "                                              Skills  ... Course Short Intro  \\\n",
            "0  Decision Trees, Artificial Neural Network, Log...  ...                NaN   \n",
            "1  Data Science, Relational Database Management S...  ...                NaN   \n",
            "2  Data Science, Github, Python Programming, Jupy...  ...                NaN   \n",
            "3  Data Science, Artificial Intelligence (AI), Bu...  ...                NaN   \n",
            "4  Artificial Neural Network, Convolutional Neura...  ...                NaN   \n",
            "\n",
            "  Weekly study Premium course What's include Rank Created by Program  \\\n",
            "0          NaN            NaN            NaN  NaN        NaN     NaN   \n",
            "1          NaN            NaN            NaN  NaN        NaN     NaN   \n",
            "2          NaN            NaN            NaN  NaN        NaN     NaN   \n",
            "3          NaN            NaN            NaN  NaN        NaN     NaN   \n",
            "4          NaN            NaN            NaN  NaN        NaN     NaN   \n",
            "\n",
            "  Number of ratings Price  COURSE CATEGORIES  \n",
            "0               NaN   NaN                NaN  \n",
            "1               NaN   NaN                NaN  \n",
            "2               NaN   NaN                NaN  \n",
            "3               NaN   NaN                NaN  \n",
            "4               NaN   NaN                NaN  \n",
            "\n",
            "[5 rows x 45 columns]\n"
          ]
        }
      ]
    },
    {
      "cell_type": "markdown",
      "source": [
        "## data type information and missing values"
      ],
      "metadata": {
        "id": "FYwR57HpKXfh"
      }
    },
    {
      "cell_type": "code",
      "source": [
        "print(\"\\nData type information:\")\n",
        "print(data.info())\n"
      ],
      "metadata": {
        "colab": {
          "base_uri": "https://localhost:8080/"
        },
        "id": "L2OptANcJ_Vm",
        "outputId": "f8b6b3de-0eb8-461f-ba79-57dd27805da4"
      },
      "execution_count": 145,
      "outputs": [
        {
          "output_type": "stream",
          "name": "stdout",
          "text": [
            "\n",
            "Data type information:\n",
            "<class 'pandas.core.frame.DataFrame'>\n",
            "RangeIndex: 8092 entries, 0 to 8091\n",
            "Data columns (total 45 columns):\n",
            " #   Column                 Non-Null Count  Dtype  \n",
            "---  ------                 --------------  -----  \n",
            " 0   Unnamed: 0             8092 non-null   int64  \n",
            " 1   Title                  8092 non-null   object \n",
            " 2   URL                    8092 non-null   object \n",
            " 3   Short Intro            8040 non-null   object \n",
            " 4   Category               2819 non-null   object \n",
            " 5   Sub-Category           2819 non-null   object \n",
            " 6   Course Type            2819 non-null   object \n",
            " 7   Language               2819 non-null   object \n",
            " 8   Subtitle Languages     2802 non-null   object \n",
            " 9   Skills                 2099 non-null   object \n",
            " 10  Instructors            2808 non-null   object \n",
            " 11  Rating                 2742 non-null   object \n",
            " 12  Number of viewers      2695 non-null   object \n",
            " 13  Duration               7944 non-null   object \n",
            " 14  Site                   8092 non-null   object \n",
            " 15  Program Type           282 non-null    object \n",
            " 16  Courses                4944 non-null   object \n",
            " 17  Level                  181 non-null    object \n",
            " 18  Number of Reviews      47 non-null     object \n",
            " 19  Unique Projects        0 non-null      float64\n",
            " 20  Prequisites            281 non-null    object \n",
            " 21  What you learn         278 non-null    object \n",
            " 22  Related Programs       85 non-null     object \n",
            " 23  Monthly access         98 non-null     object \n",
            " 24  6-Month access         2 non-null      object \n",
            " 25  4-Month access         38 non-null     object \n",
            " 26  3-Month access         26 non-null     object \n",
            " 27  5-Month access         2 non-null      object \n",
            " 28  2-Month access         10 non-null     object \n",
            " 29  School                 271 non-null    object \n",
            " 30  Topics related to CRM  4666 non-null   object \n",
            " 31  ExpertTracks           4843 non-null   object \n",
            " 32  FAQs                   1083 non-null   object \n",
            " 33  Course Title           4843 non-null   object \n",
            " 34  Course URL             4843 non-null   object \n",
            " 35  Course Short Intro     4843 non-null   object \n",
            " 36  Weekly study           4843 non-null   object \n",
            " 37  Premium course         1622 non-null   object \n",
            " 38  What's include         419 non-null    object \n",
            " 39  Rank                   37 non-null     object \n",
            " 40  Created by             37 non-null     object \n",
            " 41  Program                148 non-null    object \n",
            " 42  Number of ratings      126 non-null    object \n",
            " 43  Price                  65 non-null     float64\n",
            " 44  COURSE CATEGORIES      148 non-null    object \n",
            "dtypes: float64(2), int64(1), object(42)\n",
            "memory usage: 2.8+ MB\n",
            "None\n"
          ]
        }
      ]
    },
    {
      "cell_type": "code",
      "source": [
        "# Display summary statistics for numerical columns\n",
        "print(\"\\nSummary statistics:\")\n",
        "print(data.describe())"
      ],
      "metadata": {
        "colab": {
          "base_uri": "https://localhost:8080/"
        },
        "id": "JAgLqC-wKDGM",
        "outputId": "55ec15dc-aa9b-4f51-8926-0cf14bf3448e"
      },
      "execution_count": 146,
      "outputs": [
        {
          "output_type": "stream",
          "name": "stdout",
          "text": [
            "\n",
            "Summary statistics:\n",
            "       Unnamed: 0  Unique Projects        Price\n",
            "count  8092.00000              0.0    65.000000\n",
            "mean   1946.04214              NaN   903.830769\n",
            "std    1346.92197              NaN   665.949617\n",
            "min       0.00000              NaN   129.000000\n",
            "25%     796.00000              NaN   534.000000\n",
            "50%    1807.50000              NaN   855.000000\n",
            "75%    2819.25000              NaN  1099.000000\n",
            "max    4842.00000              NaN  4600.000000\n"
          ]
        }
      ]
    },
    {
      "cell_type": "code",
      "source": [
        "for col in data.columns:\n",
        "  print(col)"
      ],
      "metadata": {
        "colab": {
          "base_uri": "https://localhost:8080/"
        },
        "id": "kiORSTVOO2Xt",
        "outputId": "7c57c833-3eda-44f4-dd27-c8257976f326"
      },
      "execution_count": 147,
      "outputs": [
        {
          "output_type": "stream",
          "name": "stdout",
          "text": [
            "Unnamed: 0\n",
            "Title\n",
            "URL\n",
            "Short Intro\n",
            "Category\n",
            "Sub-Category\n",
            "Course Type\n",
            "Language\n",
            "Subtitle Languages\n",
            "Skills\n",
            "Instructors\n",
            "Rating\n",
            "Number of viewers\n",
            "Duration\n",
            "Site\n",
            "Program Type\n",
            "Courses\n",
            "Level\n",
            "Number of Reviews\n",
            "Unique Projects\n",
            "Prequisites\n",
            "What you learn\n",
            "Related Programs\n",
            "Monthly access\n",
            "6-Month access\n",
            "4-Month access\n",
            "3-Month access\n",
            "5-Month access\n",
            "2-Month access\n",
            "School\n",
            "Topics related to CRM\n",
            "ExpertTracks\n",
            "FAQs\n",
            "Course Title\n",
            "Course URL\n",
            "Course Short Intro\n",
            "Weekly study\n",
            "Premium course\n",
            "What's include\n",
            "Rank\n",
            "Created by\n",
            "Program\n",
            "Number of ratings\n",
            "Price\n",
            "COURSE CATEGORIES\n"
          ]
        }
      ]
    },
    {
      "cell_type": "markdown",
      "source": [
        "## Exploratory Data Analysis (EDA)"
      ],
      "metadata": {
        "id": "LEiOOhNqKza6"
      }
    },
    {
      "cell_type": "code",
      "source": [
        "data"
      ],
      "metadata": {
        "colab": {
          "base_uri": "https://localhost:8080/",
          "height": 1000
        },
        "id": "GeWA5hRePccE",
        "outputId": "59dc4abe-efc3-497d-ab7e-9341510a3dc5"
      },
      "execution_count": 148,
      "outputs": [
        {
          "output_type": "execute_result",
          "data": {
            "text/plain": [
              "      Unnamed: 0                                              Title  \\\n",
              "0              0                    Machine Learning Specialization   \n",
              "1              1        Introduction to Data Science Specialization   \n",
              "2              2  Data Science Fundamentals with Python and SQL ...   \n",
              "3              3       Key Technologies for Business Specialization   \n",
              "4              4                       Deep Learning Specialization   \n",
              "...          ...                                                ...   \n",
              "8087         143                             Certified Scrum Master   \n",
              "8088         144             Salesforce Basics Course for Beginners   \n",
              "8089         145  ICP-ACC (ICAgile Certified Agile Coaching) Cer...   \n",
              "8090         146                                   /irisprodflip456   \n",
              "8091         147                       Introduction to Industry 4.0   \n",
              "\n",
              "                                                    URL  \\\n",
              "0     https://www.coursera.org/specializations/machi...   \n",
              "1     https://www.coursera.org/specializations/intro...   \n",
              "2     https://www.coursera.org/specializations/data-...   \n",
              "3     https://www.coursera.org/specializations/key-t...   \n",
              "4     https://www.coursera.org/specializations/deep-...   \n",
              "...                                                 ...   \n",
              "8087  https://www.simplilearn.com/certified-scrum-ma...   \n",
              "8088  https://www.simplilearn.com/salesforce-course?...   \n",
              "8089  https://www.simplilearn.com/certified-agile-co...   \n",
              "8090   https://www.simplilearn.com/irisprodflip456?tag=   \n",
              "8091  https://www.simplilearn.com/introduction-indus...   \n",
              "\n",
              "                                            Short Intro      Category  \\\n",
              "0     #BreakIntoAI with Machine Learning Specializat...  Data Science   \n",
              "1     Launch your career in data science. Gain found...  Data Science   \n",
              "2     Build the Foundation for your Data Science car...  Data Science   \n",
              "3     Get Ahead with Key Business Technologies. Gain...      Business   \n",
              "4     Become a Machine Learning expert. Master the f...  Data Science   \n",
              "...                                                 ...           ...   \n",
              "8087  This Certified ScrumMaster® (CSM) certificatio...           NaN   \n",
              "8088                                                NaN           NaN   \n",
              "8089  This ICP-ACC Certification Training Course aim...           NaN   \n",
              "8090                          Iris Production check 456           NaN   \n",
              "8091                       Introduction to Industry 4.0           NaN   \n",
              "\n",
              "             Sub-Category     Course Type Language  \\\n",
              "0        Machine Learning  Specialization  English   \n",
              "1           Data Analysis  Specialization  English   \n",
              "2           Data Analysis  Specialization  English   \n",
              "3     Business Essentials  Specialization  English   \n",
              "4        Machine Learning  Specialization  English   \n",
              "...                   ...             ...      ...   \n",
              "8087                  NaN             NaN      NaN   \n",
              "8088                  NaN             NaN      NaN   \n",
              "8089                  NaN             NaN      NaN   \n",
              "8090                  NaN             NaN      NaN   \n",
              "8091                  NaN             NaN      NaN   \n",
              "\n",
              "                                     Subtitle Languages  \\\n",
              "0                                    Subtitles: English   \n",
              "1     Subtitles: English, Arabic, French, Portuguese...   \n",
              "2     Subtitles: English, Arabic, French, Portuguese...   \n",
              "3     Subtitles: English, Arabic, French, Portuguese...   \n",
              "4     Subtitles: English, Chinese (Traditional), Ara...   \n",
              "...                                                 ...   \n",
              "8087                                                NaN   \n",
              "8088                                                NaN   \n",
              "8089                                                NaN   \n",
              "8090                                                NaN   \n",
              "8091                                                NaN   \n",
              "\n",
              "                                                 Skills  ...  \\\n",
              "0     Decision Trees, Artificial Neural Network, Log...  ...   \n",
              "1     Data Science, Relational Database Management S...  ...   \n",
              "2     Data Science, Github, Python Programming, Jupy...  ...   \n",
              "3     Data Science, Artificial Intelligence (AI), Bu...  ...   \n",
              "4     Artificial Neural Network, Convolutional Neura...  ...   \n",
              "...                                                 ...  ...   \n",
              "8087                                                NaN  ...   \n",
              "8088                                                NaN  ...   \n",
              "8089                                                NaN  ...   \n",
              "8090                                                NaN  ...   \n",
              "8091                                                NaN  ...   \n",
              "\n",
              "     Course Short Intro Weekly study Premium course What's include Rank  \\\n",
              "0                   NaN          NaN            NaN            NaN  NaN   \n",
              "1                   NaN          NaN            NaN            NaN  NaN   \n",
              "2                   NaN          NaN            NaN            NaN  NaN   \n",
              "3                   NaN          NaN            NaN            NaN  NaN   \n",
              "4                   NaN          NaN            NaN            NaN  NaN   \n",
              "...                 ...          ...            ...            ...  ...   \n",
              "8087                NaN          NaN            NaN            NaN  NaN   \n",
              "8088                NaN          NaN            NaN            NaN  NaN   \n",
              "8089                NaN          NaN            NaN            NaN  NaN   \n",
              "8090                NaN          NaN            NaN            NaN  NaN   \n",
              "8091                NaN          NaN            NaN            NaN  NaN   \n",
              "\n",
              "     Created by Program Number of ratings Price        COURSE CATEGORIES  \n",
              "0           NaN     NaN               NaN   NaN                      NaN  \n",
              "1           NaN     NaN               NaN   NaN                      NaN  \n",
              "2           NaN     NaN               NaN   NaN                      NaN  \n",
              "3           NaN     NaN               NaN   NaN                      NaN  \n",
              "4           NaN     NaN               NaN   NaN                      NaN  \n",
              "...         ...     ...               ...   ...                      ...  \n",
              "8087        NaN  Course               369   NaN          Agile and Scrum  \n",
              "8088        NaN  Course               348   NaN                 Big Data  \n",
              "8089        NaN  Course               301   NaN          Agile and Scrum  \n",
              "8090        NaN  Course               293   NaN       Big Data Analytics  \n",
              "8091        NaN  Course               240   NaN  Business and Leadership  \n",
              "\n",
              "[8092 rows x 45 columns]"
            ],
            "text/html": [
              "\n",
              "  <div id=\"df-4afb9978-849b-4d99-8fba-7bb410dacb1d\" class=\"colab-df-container\">\n",
              "    <div>\n",
              "<style scoped>\n",
              "    .dataframe tbody tr th:only-of-type {\n",
              "        vertical-align: middle;\n",
              "    }\n",
              "\n",
              "    .dataframe tbody tr th {\n",
              "        vertical-align: top;\n",
              "    }\n",
              "\n",
              "    .dataframe thead th {\n",
              "        text-align: right;\n",
              "    }\n",
              "</style>\n",
              "<table border=\"1\" class=\"dataframe\">\n",
              "  <thead>\n",
              "    <tr style=\"text-align: right;\">\n",
              "      <th></th>\n",
              "      <th>Unnamed: 0</th>\n",
              "      <th>Title</th>\n",
              "      <th>URL</th>\n",
              "      <th>Short Intro</th>\n",
              "      <th>Category</th>\n",
              "      <th>Sub-Category</th>\n",
              "      <th>Course Type</th>\n",
              "      <th>Language</th>\n",
              "      <th>Subtitle Languages</th>\n",
              "      <th>Skills</th>\n",
              "      <th>...</th>\n",
              "      <th>Course Short Intro</th>\n",
              "      <th>Weekly study</th>\n",
              "      <th>Premium course</th>\n",
              "      <th>What's include</th>\n",
              "      <th>Rank</th>\n",
              "      <th>Created by</th>\n",
              "      <th>Program</th>\n",
              "      <th>Number of ratings</th>\n",
              "      <th>Price</th>\n",
              "      <th>COURSE CATEGORIES</th>\n",
              "    </tr>\n",
              "  </thead>\n",
              "  <tbody>\n",
              "    <tr>\n",
              "      <th>0</th>\n",
              "      <td>0</td>\n",
              "      <td>Machine Learning Specialization</td>\n",
              "      <td>https://www.coursera.org/specializations/machi...</td>\n",
              "      <td>#BreakIntoAI with Machine Learning Specializat...</td>\n",
              "      <td>Data Science</td>\n",
              "      <td>Machine Learning</td>\n",
              "      <td>Specialization</td>\n",
              "      <td>English</td>\n",
              "      <td>Subtitles: English</td>\n",
              "      <td>Decision Trees, Artificial Neural Network, Log...</td>\n",
              "      <td>...</td>\n",
              "      <td>NaN</td>\n",
              "      <td>NaN</td>\n",
              "      <td>NaN</td>\n",
              "      <td>NaN</td>\n",
              "      <td>NaN</td>\n",
              "      <td>NaN</td>\n",
              "      <td>NaN</td>\n",
              "      <td>NaN</td>\n",
              "      <td>NaN</td>\n",
              "      <td>NaN</td>\n",
              "    </tr>\n",
              "    <tr>\n",
              "      <th>1</th>\n",
              "      <td>1</td>\n",
              "      <td>Introduction to Data Science Specialization</td>\n",
              "      <td>https://www.coursera.org/specializations/intro...</td>\n",
              "      <td>Launch your career in data science. Gain found...</td>\n",
              "      <td>Data Science</td>\n",
              "      <td>Data Analysis</td>\n",
              "      <td>Specialization</td>\n",
              "      <td>English</td>\n",
              "      <td>Subtitles: English, Arabic, French, Portuguese...</td>\n",
              "      <td>Data Science, Relational Database Management S...</td>\n",
              "      <td>...</td>\n",
              "      <td>NaN</td>\n",
              "      <td>NaN</td>\n",
              "      <td>NaN</td>\n",
              "      <td>NaN</td>\n",
              "      <td>NaN</td>\n",
              "      <td>NaN</td>\n",
              "      <td>NaN</td>\n",
              "      <td>NaN</td>\n",
              "      <td>NaN</td>\n",
              "      <td>NaN</td>\n",
              "    </tr>\n",
              "    <tr>\n",
              "      <th>2</th>\n",
              "      <td>2</td>\n",
              "      <td>Data Science Fundamentals with Python and SQL ...</td>\n",
              "      <td>https://www.coursera.org/specializations/data-...</td>\n",
              "      <td>Build the Foundation for your Data Science car...</td>\n",
              "      <td>Data Science</td>\n",
              "      <td>Data Analysis</td>\n",
              "      <td>Specialization</td>\n",
              "      <td>English</td>\n",
              "      <td>Subtitles: English, Arabic, French, Portuguese...</td>\n",
              "      <td>Data Science, Github, Python Programming, Jupy...</td>\n",
              "      <td>...</td>\n",
              "      <td>NaN</td>\n",
              "      <td>NaN</td>\n",
              "      <td>NaN</td>\n",
              "      <td>NaN</td>\n",
              "      <td>NaN</td>\n",
              "      <td>NaN</td>\n",
              "      <td>NaN</td>\n",
              "      <td>NaN</td>\n",
              "      <td>NaN</td>\n",
              "      <td>NaN</td>\n",
              "    </tr>\n",
              "    <tr>\n",
              "      <th>3</th>\n",
              "      <td>3</td>\n",
              "      <td>Key Technologies for Business Specialization</td>\n",
              "      <td>https://www.coursera.org/specializations/key-t...</td>\n",
              "      <td>Get Ahead with Key Business Technologies. Gain...</td>\n",
              "      <td>Business</td>\n",
              "      <td>Business Essentials</td>\n",
              "      <td>Specialization</td>\n",
              "      <td>English</td>\n",
              "      <td>Subtitles: English, Arabic, French, Portuguese...</td>\n",
              "      <td>Data Science, Artificial Intelligence (AI), Bu...</td>\n",
              "      <td>...</td>\n",
              "      <td>NaN</td>\n",
              "      <td>NaN</td>\n",
              "      <td>NaN</td>\n",
              "      <td>NaN</td>\n",
              "      <td>NaN</td>\n",
              "      <td>NaN</td>\n",
              "      <td>NaN</td>\n",
              "      <td>NaN</td>\n",
              "      <td>NaN</td>\n",
              "      <td>NaN</td>\n",
              "    </tr>\n",
              "    <tr>\n",
              "      <th>4</th>\n",
              "      <td>4</td>\n",
              "      <td>Deep Learning Specialization</td>\n",
              "      <td>https://www.coursera.org/specializations/deep-...</td>\n",
              "      <td>Become a Machine Learning expert. Master the f...</td>\n",
              "      <td>Data Science</td>\n",
              "      <td>Machine Learning</td>\n",
              "      <td>Specialization</td>\n",
              "      <td>English</td>\n",
              "      <td>Subtitles: English, Chinese (Traditional), Ara...</td>\n",
              "      <td>Artificial Neural Network, Convolutional Neura...</td>\n",
              "      <td>...</td>\n",
              "      <td>NaN</td>\n",
              "      <td>NaN</td>\n",
              "      <td>NaN</td>\n",
              "      <td>NaN</td>\n",
              "      <td>NaN</td>\n",
              "      <td>NaN</td>\n",
              "      <td>NaN</td>\n",
              "      <td>NaN</td>\n",
              "      <td>NaN</td>\n",
              "      <td>NaN</td>\n",
              "    </tr>\n",
              "    <tr>\n",
              "      <th>...</th>\n",
              "      <td>...</td>\n",
              "      <td>...</td>\n",
              "      <td>...</td>\n",
              "      <td>...</td>\n",
              "      <td>...</td>\n",
              "      <td>...</td>\n",
              "      <td>...</td>\n",
              "      <td>...</td>\n",
              "      <td>...</td>\n",
              "      <td>...</td>\n",
              "      <td>...</td>\n",
              "      <td>...</td>\n",
              "      <td>...</td>\n",
              "      <td>...</td>\n",
              "      <td>...</td>\n",
              "      <td>...</td>\n",
              "      <td>...</td>\n",
              "      <td>...</td>\n",
              "      <td>...</td>\n",
              "      <td>...</td>\n",
              "      <td>...</td>\n",
              "    </tr>\n",
              "    <tr>\n",
              "      <th>8087</th>\n",
              "      <td>143</td>\n",
              "      <td>Certified Scrum Master</td>\n",
              "      <td>https://www.simplilearn.com/certified-scrum-ma...</td>\n",
              "      <td>This Certified ScrumMaster® (CSM) certificatio...</td>\n",
              "      <td>NaN</td>\n",
              "      <td>NaN</td>\n",
              "      <td>NaN</td>\n",
              "      <td>NaN</td>\n",
              "      <td>NaN</td>\n",
              "      <td>NaN</td>\n",
              "      <td>...</td>\n",
              "      <td>NaN</td>\n",
              "      <td>NaN</td>\n",
              "      <td>NaN</td>\n",
              "      <td>NaN</td>\n",
              "      <td>NaN</td>\n",
              "      <td>NaN</td>\n",
              "      <td>Course</td>\n",
              "      <td>369</td>\n",
              "      <td>NaN</td>\n",
              "      <td>Agile and Scrum</td>\n",
              "    </tr>\n",
              "    <tr>\n",
              "      <th>8088</th>\n",
              "      <td>144</td>\n",
              "      <td>Salesforce Basics Course for Beginners</td>\n",
              "      <td>https://www.simplilearn.com/salesforce-course?...</td>\n",
              "      <td>NaN</td>\n",
              "      <td>NaN</td>\n",
              "      <td>NaN</td>\n",
              "      <td>NaN</td>\n",
              "      <td>NaN</td>\n",
              "      <td>NaN</td>\n",
              "      <td>NaN</td>\n",
              "      <td>...</td>\n",
              "      <td>NaN</td>\n",
              "      <td>NaN</td>\n",
              "      <td>NaN</td>\n",
              "      <td>NaN</td>\n",
              "      <td>NaN</td>\n",
              "      <td>NaN</td>\n",
              "      <td>Course</td>\n",
              "      <td>348</td>\n",
              "      <td>NaN</td>\n",
              "      <td>Big Data</td>\n",
              "    </tr>\n",
              "    <tr>\n",
              "      <th>8089</th>\n",
              "      <td>145</td>\n",
              "      <td>ICP-ACC (ICAgile Certified Agile Coaching) Cer...</td>\n",
              "      <td>https://www.simplilearn.com/certified-agile-co...</td>\n",
              "      <td>This ICP-ACC Certification Training Course aim...</td>\n",
              "      <td>NaN</td>\n",
              "      <td>NaN</td>\n",
              "      <td>NaN</td>\n",
              "      <td>NaN</td>\n",
              "      <td>NaN</td>\n",
              "      <td>NaN</td>\n",
              "      <td>...</td>\n",
              "      <td>NaN</td>\n",
              "      <td>NaN</td>\n",
              "      <td>NaN</td>\n",
              "      <td>NaN</td>\n",
              "      <td>NaN</td>\n",
              "      <td>NaN</td>\n",
              "      <td>Course</td>\n",
              "      <td>301</td>\n",
              "      <td>NaN</td>\n",
              "      <td>Agile and Scrum</td>\n",
              "    </tr>\n",
              "    <tr>\n",
              "      <th>8090</th>\n",
              "      <td>146</td>\n",
              "      <td>/irisprodflip456</td>\n",
              "      <td>https://www.simplilearn.com/irisprodflip456?tag=</td>\n",
              "      <td>Iris Production check 456</td>\n",
              "      <td>NaN</td>\n",
              "      <td>NaN</td>\n",
              "      <td>NaN</td>\n",
              "      <td>NaN</td>\n",
              "      <td>NaN</td>\n",
              "      <td>NaN</td>\n",
              "      <td>...</td>\n",
              "      <td>NaN</td>\n",
              "      <td>NaN</td>\n",
              "      <td>NaN</td>\n",
              "      <td>NaN</td>\n",
              "      <td>NaN</td>\n",
              "      <td>NaN</td>\n",
              "      <td>Course</td>\n",
              "      <td>293</td>\n",
              "      <td>NaN</td>\n",
              "      <td>Big Data Analytics</td>\n",
              "    </tr>\n",
              "    <tr>\n",
              "      <th>8091</th>\n",
              "      <td>147</td>\n",
              "      <td>Introduction to Industry 4.0</td>\n",
              "      <td>https://www.simplilearn.com/introduction-indus...</td>\n",
              "      <td>Introduction to Industry 4.0</td>\n",
              "      <td>NaN</td>\n",
              "      <td>NaN</td>\n",
              "      <td>NaN</td>\n",
              "      <td>NaN</td>\n",
              "      <td>NaN</td>\n",
              "      <td>NaN</td>\n",
              "      <td>...</td>\n",
              "      <td>NaN</td>\n",
              "      <td>NaN</td>\n",
              "      <td>NaN</td>\n",
              "      <td>NaN</td>\n",
              "      <td>NaN</td>\n",
              "      <td>NaN</td>\n",
              "      <td>Course</td>\n",
              "      <td>240</td>\n",
              "      <td>NaN</td>\n",
              "      <td>Business and Leadership</td>\n",
              "    </tr>\n",
              "  </tbody>\n",
              "</table>\n",
              "<p>8092 rows × 45 columns</p>\n",
              "</div>\n",
              "    <div class=\"colab-df-buttons\">\n",
              "\n",
              "  <div class=\"colab-df-container\">\n",
              "    <button class=\"colab-df-convert\" onclick=\"convertToInteractive('df-4afb9978-849b-4d99-8fba-7bb410dacb1d')\"\n",
              "            title=\"Convert this dataframe to an interactive table.\"\n",
              "            style=\"display:none;\">\n",
              "\n",
              "  <svg xmlns=\"http://www.w3.org/2000/svg\" height=\"24px\" viewBox=\"0 -960 960 960\">\n",
              "    <path d=\"M120-120v-720h720v720H120Zm60-500h600v-160H180v160Zm220 220h160v-160H400v160Zm0 220h160v-160H400v160ZM180-400h160v-160H180v160Zm440 0h160v-160H620v160ZM180-180h160v-160H180v160Zm440 0h160v-160H620v160Z\"/>\n",
              "  </svg>\n",
              "    </button>\n",
              "\n",
              "  <style>\n",
              "    .colab-df-container {\n",
              "      display:flex;\n",
              "      gap: 12px;\n",
              "    }\n",
              "\n",
              "    .colab-df-convert {\n",
              "      background-color: #E8F0FE;\n",
              "      border: none;\n",
              "      border-radius: 50%;\n",
              "      cursor: pointer;\n",
              "      display: none;\n",
              "      fill: #1967D2;\n",
              "      height: 32px;\n",
              "      padding: 0 0 0 0;\n",
              "      width: 32px;\n",
              "    }\n",
              "\n",
              "    .colab-df-convert:hover {\n",
              "      background-color: #E2EBFA;\n",
              "      box-shadow: 0px 1px 2px rgba(60, 64, 67, 0.3), 0px 1px 3px 1px rgba(60, 64, 67, 0.15);\n",
              "      fill: #174EA6;\n",
              "    }\n",
              "\n",
              "    .colab-df-buttons div {\n",
              "      margin-bottom: 4px;\n",
              "    }\n",
              "\n",
              "    [theme=dark] .colab-df-convert {\n",
              "      background-color: #3B4455;\n",
              "      fill: #D2E3FC;\n",
              "    }\n",
              "\n",
              "    [theme=dark] .colab-df-convert:hover {\n",
              "      background-color: #434B5C;\n",
              "      box-shadow: 0px 1px 3px 1px rgba(0, 0, 0, 0.15);\n",
              "      filter: drop-shadow(0px 1px 2px rgba(0, 0, 0, 0.3));\n",
              "      fill: #FFFFFF;\n",
              "    }\n",
              "  </style>\n",
              "\n",
              "    <script>\n",
              "      const buttonEl =\n",
              "        document.querySelector('#df-4afb9978-849b-4d99-8fba-7bb410dacb1d button.colab-df-convert');\n",
              "      buttonEl.style.display =\n",
              "        google.colab.kernel.accessAllowed ? 'block' : 'none';\n",
              "\n",
              "      async function convertToInteractive(key) {\n",
              "        const element = document.querySelector('#df-4afb9978-849b-4d99-8fba-7bb410dacb1d');\n",
              "        const dataTable =\n",
              "          await google.colab.kernel.invokeFunction('convertToInteractive',\n",
              "                                                    [key], {});\n",
              "        if (!dataTable) return;\n",
              "\n",
              "        const docLinkHtml = 'Like what you see? Visit the ' +\n",
              "          '<a target=\"_blank\" href=https://colab.research.google.com/notebooks/data_table.ipynb>data table notebook</a>'\n",
              "          + ' to learn more about interactive tables.';\n",
              "        element.innerHTML = '';\n",
              "        dataTable['output_type'] = 'display_data';\n",
              "        await google.colab.output.renderOutput(dataTable, element);\n",
              "        const docLink = document.createElement('div');\n",
              "        docLink.innerHTML = docLinkHtml;\n",
              "        element.appendChild(docLink);\n",
              "      }\n",
              "    </script>\n",
              "  </div>\n",
              "\n",
              "\n",
              "<div id=\"df-109605b4-9e3e-42a9-82ef-4e8eec186444\">\n",
              "  <button class=\"colab-df-quickchart\" onclick=\"quickchart('df-109605b4-9e3e-42a9-82ef-4e8eec186444')\"\n",
              "            title=\"Suggest charts\"\n",
              "            style=\"display:none;\">\n",
              "\n",
              "<svg xmlns=\"http://www.w3.org/2000/svg\" height=\"24px\"viewBox=\"0 0 24 24\"\n",
              "     width=\"24px\">\n",
              "    <g>\n",
              "        <path d=\"M19 3H5c-1.1 0-2 .9-2 2v14c0 1.1.9 2 2 2h14c1.1 0 2-.9 2-2V5c0-1.1-.9-2-2-2zM9 17H7v-7h2v7zm4 0h-2V7h2v10zm4 0h-2v-4h2v4z\"/>\n",
              "    </g>\n",
              "</svg>\n",
              "  </button>\n",
              "\n",
              "<style>\n",
              "  .colab-df-quickchart {\n",
              "      --bg-color: #E8F0FE;\n",
              "      --fill-color: #1967D2;\n",
              "      --hover-bg-color: #E2EBFA;\n",
              "      --hover-fill-color: #174EA6;\n",
              "      --disabled-fill-color: #AAA;\n",
              "      --disabled-bg-color: #DDD;\n",
              "  }\n",
              "\n",
              "  [theme=dark] .colab-df-quickchart {\n",
              "      --bg-color: #3B4455;\n",
              "      --fill-color: #D2E3FC;\n",
              "      --hover-bg-color: #434B5C;\n",
              "      --hover-fill-color: #FFFFFF;\n",
              "      --disabled-bg-color: #3B4455;\n",
              "      --disabled-fill-color: #666;\n",
              "  }\n",
              "\n",
              "  .colab-df-quickchart {\n",
              "    background-color: var(--bg-color);\n",
              "    border: none;\n",
              "    border-radius: 50%;\n",
              "    cursor: pointer;\n",
              "    display: none;\n",
              "    fill: var(--fill-color);\n",
              "    height: 32px;\n",
              "    padding: 0;\n",
              "    width: 32px;\n",
              "  }\n",
              "\n",
              "  .colab-df-quickchart:hover {\n",
              "    background-color: var(--hover-bg-color);\n",
              "    box-shadow: 0 1px 2px rgba(60, 64, 67, 0.3), 0 1px 3px 1px rgba(60, 64, 67, 0.15);\n",
              "    fill: var(--button-hover-fill-color);\n",
              "  }\n",
              "\n",
              "  .colab-df-quickchart-complete:disabled,\n",
              "  .colab-df-quickchart-complete:disabled:hover {\n",
              "    background-color: var(--disabled-bg-color);\n",
              "    fill: var(--disabled-fill-color);\n",
              "    box-shadow: none;\n",
              "  }\n",
              "\n",
              "  .colab-df-spinner {\n",
              "    border: 2px solid var(--fill-color);\n",
              "    border-color: transparent;\n",
              "    border-bottom-color: var(--fill-color);\n",
              "    animation:\n",
              "      spin 1s steps(1) infinite;\n",
              "  }\n",
              "\n",
              "  @keyframes spin {\n",
              "    0% {\n",
              "      border-color: transparent;\n",
              "      border-bottom-color: var(--fill-color);\n",
              "      border-left-color: var(--fill-color);\n",
              "    }\n",
              "    20% {\n",
              "      border-color: transparent;\n",
              "      border-left-color: var(--fill-color);\n",
              "      border-top-color: var(--fill-color);\n",
              "    }\n",
              "    30% {\n",
              "      border-color: transparent;\n",
              "      border-left-color: var(--fill-color);\n",
              "      border-top-color: var(--fill-color);\n",
              "      border-right-color: var(--fill-color);\n",
              "    }\n",
              "    40% {\n",
              "      border-color: transparent;\n",
              "      border-right-color: var(--fill-color);\n",
              "      border-top-color: var(--fill-color);\n",
              "    }\n",
              "    60% {\n",
              "      border-color: transparent;\n",
              "      border-right-color: var(--fill-color);\n",
              "    }\n",
              "    80% {\n",
              "      border-color: transparent;\n",
              "      border-right-color: var(--fill-color);\n",
              "      border-bottom-color: var(--fill-color);\n",
              "    }\n",
              "    90% {\n",
              "      border-color: transparent;\n",
              "      border-bottom-color: var(--fill-color);\n",
              "    }\n",
              "  }\n",
              "</style>\n",
              "\n",
              "  <script>\n",
              "    async function quickchart(key) {\n",
              "      const quickchartButtonEl =\n",
              "        document.querySelector('#' + key + ' button');\n",
              "      quickchartButtonEl.disabled = true;  // To prevent multiple clicks.\n",
              "      quickchartButtonEl.classList.add('colab-df-spinner');\n",
              "      try {\n",
              "        const charts = await google.colab.kernel.invokeFunction(\n",
              "            'suggestCharts', [key], {});\n",
              "      } catch (error) {\n",
              "        console.error('Error during call to suggestCharts:', error);\n",
              "      }\n",
              "      quickchartButtonEl.classList.remove('colab-df-spinner');\n",
              "      quickchartButtonEl.classList.add('colab-df-quickchart-complete');\n",
              "    }\n",
              "    (() => {\n",
              "      let quickchartButtonEl =\n",
              "        document.querySelector('#df-109605b4-9e3e-42a9-82ef-4e8eec186444 button');\n",
              "      quickchartButtonEl.style.display =\n",
              "        google.colab.kernel.accessAllowed ? 'block' : 'none';\n",
              "    })();\n",
              "  </script>\n",
              "</div>\n",
              "\n",
              "  <div id=\"id_970582f6-d48d-4095-9b70-4283d9e4bf4a\">\n",
              "    <style>\n",
              "      .colab-df-generate {\n",
              "        background-color: #E8F0FE;\n",
              "        border: none;\n",
              "        border-radius: 50%;\n",
              "        cursor: pointer;\n",
              "        display: none;\n",
              "        fill: #1967D2;\n",
              "        height: 32px;\n",
              "        padding: 0 0 0 0;\n",
              "        width: 32px;\n",
              "      }\n",
              "\n",
              "      .colab-df-generate:hover {\n",
              "        background-color: #E2EBFA;\n",
              "        box-shadow: 0px 1px 2px rgba(60, 64, 67, 0.3), 0px 1px 3px 1px rgba(60, 64, 67, 0.15);\n",
              "        fill: #174EA6;\n",
              "      }\n",
              "\n",
              "      [theme=dark] .colab-df-generate {\n",
              "        background-color: #3B4455;\n",
              "        fill: #D2E3FC;\n",
              "      }\n",
              "\n",
              "      [theme=dark] .colab-df-generate:hover {\n",
              "        background-color: #434B5C;\n",
              "        box-shadow: 0px 1px 3px 1px rgba(0, 0, 0, 0.15);\n",
              "        filter: drop-shadow(0px 1px 2px rgba(0, 0, 0, 0.3));\n",
              "        fill: #FFFFFF;\n",
              "      }\n",
              "    </style>\n",
              "    <button class=\"colab-df-generate\" onclick=\"generateWithVariable('data')\"\n",
              "            title=\"Generate code using this dataframe.\"\n",
              "            style=\"display:none;\">\n",
              "\n",
              "  <svg xmlns=\"http://www.w3.org/2000/svg\" height=\"24px\"viewBox=\"0 0 24 24\"\n",
              "       width=\"24px\">\n",
              "    <path d=\"M7,19H8.4L18.45,9,17,7.55,7,17.6ZM5,21V16.75L18.45,3.32a2,2,0,0,1,2.83,0l1.4,1.43a1.91,1.91,0,0,1,.58,1.4,1.91,1.91,0,0,1-.58,1.4L9.25,21ZM18.45,9,17,7.55Zm-12,3A5.31,5.31,0,0,0,4.9,8.1,5.31,5.31,0,0,0,1,6.5,5.31,5.31,0,0,0,4.9,4.9,5.31,5.31,0,0,0,6.5,1,5.31,5.31,0,0,0,8.1,4.9,5.31,5.31,0,0,0,12,6.5,5.46,5.46,0,0,0,6.5,12Z\"/>\n",
              "  </svg>\n",
              "    </button>\n",
              "    <script>\n",
              "      (() => {\n",
              "      const buttonEl =\n",
              "        document.querySelector('#id_970582f6-d48d-4095-9b70-4283d9e4bf4a button.colab-df-generate');\n",
              "      buttonEl.style.display =\n",
              "        google.colab.kernel.accessAllowed ? 'block' : 'none';\n",
              "\n",
              "      buttonEl.onclick = () => {\n",
              "        google.colab.notebook.generateWithVariable('data');\n",
              "      }\n",
              "      })();\n",
              "    </script>\n",
              "  </div>\n",
              "\n",
              "    </div>\n",
              "  </div>\n"
            ],
            "application/vnd.google.colaboratory.intrinsic+json": {
              "type": "dataframe",
              "variable_name": "data"
            }
          },
          "metadata": {},
          "execution_count": 148
        }
      ]
    },
    {
      "cell_type": "markdown",
      "source": [
        "## Analyzing Popular Courses"
      ],
      "metadata": {
        "id": "rIo4VV3mWPx9"
      }
    },
    {
      "cell_type": "code",
      "source": [
        "# Scatter plot of course ratings vs. number of views\n",
        "plt.figure(figsize=(8, 6))\n",
        "sns.scatterplot( data=data)\n",
        "plt.title(\"Course Ratings vs. Number of Views\")\n",
        "plt.xlabel(\"Rating\")\n",
        "plt.ylabel(\"Number of Views\")\n",
        "plt.show()"
      ],
      "metadata": {
        "colab": {
          "base_uri": "https://localhost:8080/",
          "height": 564
        },
        "id": "TIXc-iq8Vwl3",
        "outputId": "3a2a3eaf-732e-4a77-86ea-974903d2e4cc"
      },
      "execution_count": 149,
      "outputs": [
        {
          "output_type": "display_data",
          "data": {
            "text/plain": [
              "<Figure size 800x600 with 1 Axes>"
            ],
            "image/png": "[encoded data removed]"
          },
          "metadata": {}
        }
      ]
    },
    {
      "cell_type": "markdown",
      "source": [
        "## Segmenting Data by Language"
      ],
      "metadata": {
        "id": "oshComLcWz12"
      }
    },
    {
      "cell_type": "code",
      "source": [
        "# Bar plot showing course categories by language\n",
        "plt.figure(figsize=(12, 6))\n",
        "sns.countplot( data=data)\n",
        "plt.title(\"Course Categories by Language\")\n",
        "plt.xlabel(\"Category\")\n",
        "plt.ylabel(\"Count\")\n",
        "plt.legend(title='Language')\n",
        "plt.show()"
      ],
      "metadata": {
        "colab": {
          "base_uri": "https://localhost:8080/",
          "height": 601
        },
        "id": "__HKd6cTWDaY",
        "outputId": "b139abe7-b51f-404b-c1d4-7def4f828933"
      },
      "execution_count": 150,
      "outputs": [
        {
          "output_type": "stream",
          "name": "stderr",
          "text": [
            "WARNING:matplotlib.legend:No artists with labels found to put in legend.  Note that artists whose label start with an underscore are ignored when legend() is called with no argument.\n"
          ]
        },
        {
          "output_type": "display_data",
          "data": {
            "text/plain": [
              "<Figure size 1200x600 with 1 Axes>"
            ],
            "image/png": "[encoded data removed]"
          },
          "metadata": {}
        }
      ]
    },
    {
      "cell_type": "code",
      "source": [
        "# Analyze further based on the data\n",
        "print()\n",
        "print(data)"
      ],
      "metadata": {
        "colab": {
          "base_uri": "https://localhost:8080/"
        },
        "id": "nqEruSqDWYD9",
        "outputId": "39d6e741-1f89-44df-9ebb-2fc7907c1886"
      },
      "execution_count": 151,
      "outputs": [
        {
          "output_type": "stream",
          "name": "stdout",
          "text": [
            "\n",
            "      Unnamed: 0                                              Title  \\\n",
            "0              0                    Machine Learning Specialization   \n",
            "1              1        Introduction to Data Science Specialization   \n",
            "2              2  Data Science Fundamentals with Python and SQL ...   \n",
            "3              3       Key Technologies for Business Specialization   \n",
            "4              4                       Deep Learning Specialization   \n",
            "...          ...                                                ...   \n",
            "8087         143                             Certified Scrum Master   \n",
            "8088         144             Salesforce Basics Course for Beginners   \n",
            "8089         145  ICP-ACC (ICAgile Certified Agile Coaching) Cer...   \n",
            "8090         146                                   /irisprodflip456   \n",
            "8091         147                       Introduction to Industry 4.0   \n",
            "\n",
            "                                                    URL  \\\n",
            "0     https://www.coursera.org/specializations/machi...   \n",
            "1     https://www.coursera.org/specializations/intro...   \n",
            "2     https://www.coursera.org/specializations/data-...   \n",
            "3     https://www.coursera.org/specializations/key-t...   \n",
            "4     https://www.coursera.org/specializations/deep-...   \n",
            "...                                                 ...   \n",
            "8087  https://www.simplilearn.com/certified-scrum-ma...   \n",
            "8088  https://www.simplilearn.com/salesforce-course?...   \n",
            "8089  https://www.simplilearn.com/certified-agile-co...   \n",
            "8090   https://www.simplilearn.com/irisprodflip456?tag=   \n",
            "8091  https://www.simplilearn.com/introduction-indus...   \n",
            "\n",
            "                                            Short Intro      Category  \\\n",
            "0     #BreakIntoAI with Machine Learning Specializat...  Data Science   \n",
            "1     Launch your career in data science. Gain found...  Data Science   \n",
            "2     Build the Foundation for your Data Science car...  Data Science   \n",
            "3     Get Ahead with Key Business Technologies. Gain...      Business   \n",
            "4     Become a Machine Learning expert. Master the f...  Data Science   \n",
            "...                                                 ...           ...   \n",
            "8087  This Certified ScrumMaster® (CSM) certificatio...           NaN   \n",
            "8088                                                NaN           NaN   \n",
            "8089  This ICP-ACC Certification Training Course aim...           NaN   \n",
            "8090                          Iris Production check 456           NaN   \n",
            "8091                       Introduction to Industry 4.0           NaN   \n",
            "\n",
            "             Sub-Category     Course Type Language  \\\n",
            "0        Machine Learning  Specialization  English   \n",
            "1           Data Analysis  Specialization  English   \n",
            "2           Data Analysis  Specialization  English   \n",
            "3     Business Essentials  Specialization  English   \n",
            "4        Machine Learning  Specialization  English   \n",
            "...                   ...             ...      ...   \n",
            "8087                  NaN             NaN      NaN   \n",
            "8088                  NaN             NaN      NaN   \n",
            "8089                  NaN             NaN      NaN   \n",
            "8090                  NaN             NaN      NaN   \n",
            "8091                  NaN             NaN      NaN   \n",
            "\n",
            "                                     Subtitle Languages  \\\n",
            "0                                    Subtitles: English   \n",
            "1     Subtitles: English, Arabic, French, Portuguese...   \n",
            "2     Subtitles: English, Arabic, French, Portuguese...   \n",
            "3     Subtitles: English, Arabic, French, Portuguese...   \n",
            "4     Subtitles: English, Chinese (Traditional), Ara...   \n",
            "...                                                 ...   \n",
            "8087                                                NaN   \n",
            "8088                                                NaN   \n",
            "8089                                                NaN   \n",
            "8090                                                NaN   \n",
            "8091                                                NaN   \n",
            "\n",
            "                                                 Skills  ...  \\\n",
            "0     Decision Trees, Artificial Neural Network, Log...  ...   \n",
            "1     Data Science, Relational Database Management S...  ...   \n",
            "2     Data Science, Github, Python Programming, Jupy...  ...   \n",
            "3     Data Science, Artificial Intelligence (AI), Bu...  ...   \n",
            "4     Artificial Neural Network, Convolutional Neura...  ...   \n",
            "...                                                 ...  ...   \n",
            "8087                                                NaN  ...   \n",
            "8088                                                NaN  ...   \n",
            "8089                                                NaN  ...   \n",
            "8090                                                NaN  ...   \n",
            "8091                                                NaN  ...   \n",
            "\n",
            "     Course Short Intro Weekly study Premium course What's include Rank  \\\n",
            "0                   NaN          NaN            NaN            NaN  NaN   \n",
            "1                   NaN          NaN            NaN            NaN  NaN   \n",
            "2                   NaN          NaN            NaN            NaN  NaN   \n",
            "3                   NaN          NaN            NaN            NaN  NaN   \n",
            "4                   NaN          NaN            NaN            NaN  NaN   \n",
            "...                 ...          ...            ...            ...  ...   \n",
            "8087                NaN          NaN            NaN            NaN  NaN   \n",
            "8088                NaN          NaN            NaN            NaN  NaN   \n",
            "8089                NaN          NaN            NaN            NaN  NaN   \n",
            "8090                NaN          NaN            NaN            NaN  NaN   \n",
            "8091                NaN          NaN            NaN            NaN  NaN   \n",
            "\n",
            "     Created by Program Number of ratings Price        COURSE CATEGORIES  \n",
            "0           NaN     NaN               NaN   NaN                      NaN  \n",
            "1           NaN     NaN               NaN   NaN                      NaN  \n",
            "2           NaN     NaN               NaN   NaN                      NaN  \n",
            "3           NaN     NaN               NaN   NaN                      NaN  \n",
            "4           NaN     NaN               NaN   NaN                      NaN  \n",
            "...         ...     ...               ...   ...                      ...  \n",
            "8087        NaN  Course               369   NaN          Agile and Scrum  \n",
            "8088        NaN  Course               348   NaN                 Big Data  \n",
            "8089        NaN  Course               301   NaN          Agile and Scrum  \n",
            "8090        NaN  Course               293   NaN       Big Data Analytics  \n",
            "8091        NaN  Course               240   NaN  Business and Leadership  \n",
            "\n",
            "[8092 rows x 45 columns]\n"
          ]
        }
      ]
    },
    {
      "cell_type": "code",
      "source": [
        "# Distribution of course ratings\n",
        "plt.figure(figsize=(8, 6))\n",
        "sns.histplot(data, kde=True)\n",
        "plt.title(\"Distribution of Course Ratings\")\n",
        "plt.xlabel(\"Rating\")\n",
        "plt.ylabel(\"Count\")\n",
        "plt.show()"
      ],
      "metadata": {
        "colab": {
          "base_uri": "https://localhost:8080/",
          "height": 564
        },
        "id": "s4ZO7CqtW588",
        "outputId": "a54836f8-27ff-45a3-de88-e8c82b3e66d1"
      },
      "execution_count": 152,
      "outputs": [
        {
          "output_type": "display_data",
          "data": {
            "text/plain": [
              "<Figure size 800x600 with 1 Axes>"
            ],
            "image/png": "[encoded data removed]"
          },
          "metadata": {}
        }
      ]
    },
    {
      "cell_type": "markdown",
      "source": [
        "## Analyzing Course Categories"
      ],
      "metadata": {
        "id": "akdIV5elad1c"
      }
    },
    {
      "cell_type": "code",
      "source": [
        "# Count plot of course categories\n",
        "plt.figure(figsize=(18, 12))\n",
        "sns.countplot( data=data)\n",
        "plt.title(\"Count of Course Categories\")\n",
        "plt.xlabel(\"Category\")\n",
        "plt.ylabel(\"Count\")\n",
        "plt.show()"
      ],
      "metadata": {
        "colab": {
          "base_uri": "https://localhost:8080/",
          "height": 889
        },
        "id": "o9PF4Zu1XRCK",
        "outputId": "a8e40be7-f5a4-4b04-826b-62caabf654f8"
      },
      "execution_count": 153,
      "outputs": [
        {
          "output_type": "display_data",
          "data": {
            "text/plain": [
              "<Figure size 1800x1200 with 1 Axes>"
            ],
            "image/png": "[encoded data removed]"
          },
          "metadata": {}
        }
      ]
    },
    {
      "cell_type": "markdown",
      "source": [
        "## Short Course Introduction"
      ],
      "metadata": {
        "id": "j8JDfCn7byrD"
      }
    },
    {
      "cell_type": "code",
      "source": [
        "# Display the first few rows of short course introductions\n",
        "print(\"Short Course Introductions:\")\n",
        "print(data[[]].head(5))"
      ],
      "metadata": {
        "colab": {
          "base_uri": "https://localhost:8080/"
        },
        "id": "Y4qhEpngba1l",
        "outputId": "76db03f7-a07f-4238-bd39-2bf2aad09ed4"
      },
      "execution_count": 154,
      "outputs": [
        {
          "output_type": "stream",
          "name": "stdout",
          "text": [
            "Short Course Introductions:\n",
            "Empty DataFrame\n",
            "Columns: []\n",
            "Index: [0, 1, 2, 3, 4]\n"
          ]
        }
      ]
    },
    {
      "cell_type": "markdown",
      "source": [
        "## Popular Skills"
      ],
      "metadata": {
        "id": "IxpskFQycvZB"
      }
    },
    {
      "cell_type": "code",
      "source": [
        "# Split 'skills' by comma and create a count plot of the most common skills\n",
        "\n",
        "\n",
        "plt.figure(figsize=(12, 6))\n",
        "sns.histplot(data, kde=True)\n",
        "plt.title(\"Top 10 Skills in Courses\")\n",
        "plt.xlabel(\"Count\")\n",
        "plt.ylabel(\"Skill\")\n",
        "plt.show()\n"
      ],
      "metadata": {
        "colab": {
          "base_uri": "https://localhost:8080/",
          "height": 564
        },
        "id": "DG_Un2mwb4j9",
        "outputId": "d1fef697-0913-4297-c757-695c99861263"
      },
      "execution_count": 155,
      "outputs": [
        {
          "output_type": "display_data",
          "data": {
            "text/plain": [
              "<Figure size 1200x600 with 1 Axes>"
            ],
            "image/png": "[encoded data removed]"
          },
          "metadata": {}
        }
      ]
    },
    {
      "cell_type": "code",
      "source": [
        "# If there's a 'date_added' or similar field, analyze trends over time\n",
        "if 'date_added' in data.columns:\n",
        "    data['date_added'] = pd.to_datetime(data['date_added'])\n",
        "    data['year'] = data['date_added'].dt.year\n",
        "    plt.figure(figsize=(12, 6))\n",
        "    sns.countplot(x='year', data=data)\n",
        "    plt.title(\"Courses Added Over Time\")\n",
        "    plt.xlabel(\"Year\")\n",
        "    plt.ylabel(\"Number of Courses\")\n",
        "    plt.show()"
      ],
      "metadata": {
        "id": "CgQ0M6TCcGZk"
      },
      "execution_count": 156,
      "outputs": []
    },
    {
      "cell_type": "code",
      "source": [
        "# If multiple sites host courses, analyze them by site\n",
        "if 'site' in data.columns:\n",
        "    plt.figure(figsize=(12, 6))\n",
        "    sns.countplot(x='site', data=data)\n",
        "    plt.title(\"Course Distribution by Site\")\n",
        "    plt.xlabel(\"Site\")\n",
        "    plt.ylabel(\"Count\")\n",
        "    plt.show()"
      ],
      "metadata": {
        "id": "zRVgb75BdWun"
      },
      "execution_count": 157,
      "outputs": []
    },
    {
      "cell_type": "markdown",
      "source": [
        "# Conclusion of E-Learning Platform"
      ],
      "metadata": {
        "id": "PEPKW7iWfWVk"
      }
    },
    {
      "cell_type": "markdown",
      "source": [
        "Conclusion of E-Learning Platform Based on Market Segmentation and Analysis\n",
        "\n",
        "Market segmentation and analysis are crucial in understanding the dynamics of the e-learning platform market. Here is a conclusion derived from a comprehensive study that considers several segmentation factors and market trends:\n",
        "\n",
        "E-learning platforms offer vast opportunities in a rapidly growing market. Effective market segmentation and analysis provide a pathway to success by addressing the unique needs of different user groups. Platforms that combine tailored content, technology innovation, and strong partnerships are well-positioned to thrive in this competitive landscape. By continuously adapting to market trends and user feedback, e-learning platforms can create lasting value and impact in the education sector"
      ],
      "metadata": {
        "id": "DX5AQ0sHfC5E"
      }
    },
    {
      "cell_type": "markdown",
      "source": [
        "Strategic Focus\n",
        "\n",
        "To succeed in this dynamic environment, e-learning platforms should focus on:\n",
        "\n",
        "- Tailored Content:\n",
        "  Create content that meets the specific needs of each segment, including industry-specific courses, professional development, and academic programs.\n",
        "\n",
        "- Localized Content:\n",
        "  Invest in localization to reach global audiences, ensuring content is accessible and relevant across different regions.\n",
        "\n",
        "- Technology-Driven Solutions:\n",
        "  Embrace technology to enhance user experiences, utilizing AI, VR/AR, and data analytics to create personalized and engaging learning pathways.\n",
        "\n",
        "- Collaborative Partnerships:\n",
        "  Build relationships with educational institutions, industry leaders, and corporate clients to expand the platform's reach and credibility.\n",
        "\n",
        "- Strong Compliance and Security:\n",
        "  Maintain strict compliance with regulations and ensure data security to foster user trust.\n",
        "\n",
        "By embracing these strategic focus areas, e-learning platforms can achieve sustainable growth and make a significant impact on the education landscape. As the market continues to evolve, platforms that remain adaptable and innovative will be best positioned for long-term success."
      ],
      "metadata": {
        "id": "TXLcc5Xgfv5c"
      }
    },
    {
      "cell_type": "code",
      "source": [],
      "metadata": {
        "id": "ux5fvCV2fycX"
      },
      "execution_count": 157,
      "outputs": []
    }
  ]
}